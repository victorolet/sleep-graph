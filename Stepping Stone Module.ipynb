{
 "cells": [
  {
   "cell_type": "markdown",
   "metadata": {},
   "source": [
    "# Table of Contents\n",
    "* [Before you get started](#Before-you-get-started)\n",
    "* [Data Types and Variables](#data-types)\n",
    "    * [Variables](#variables)\n",
    "* [Lists](#lists)\n",
    "* [Functions and Input Parameters](#functions-parameters)\n",
    "* [Loops/If-else statements](#loops)\n",
    "    * [For loop](#for-loop)\n",
    "    * [While loop](#while-loop)\n",
    "    * [If-else statement](#if-else)\n",
    "* [Generating Data](#generating-data)\n",
    "* [Creating Graphs - Pie Chart](#creating-graphs)\n",
    "* [Creating Graphs - Bar Graph](#bar-graph)\n",
    "\n",
    "\n"
   ]
  },
  {
   "cell_type": "markdown",
   "metadata": {},
   "source": [
    "# Before you get started <a id=\"Before-you-get-started\"></a>\n",
    "\n",
    "The goal of this module is to introduce you to the programming language Python, as well as introduce you to handling data, so that you can interact with data from the sleep survey on Learn@Pawsey.\n",
    "Python is one of the most used programming languages today. It is majorly favoured by the computer science community and generally anyone that deals with data sets. \n",
    "Through using this program you will learn about the basics of using Python and interacting with data sets.\n"
   ]
  },
  {
   "cell_type": "markdown",
   "metadata": {},
   "source": [
    "# Data Types and Variables <a id=\"data-types\"></a>"
   ]
  },
  {
   "cell_type": "markdown",
   "metadata": {},
   "source": [
    "In programming, one of the most important concepts are data types. Depending on the data we are working with, there are different types of data that we are going to encounter, and different data types can be used for to do different things.\n",
    "In Python, there are a number of different data types. The most important ones are:\n",
    "\n",
    "str - str stands for string and is used to store text. If we want to use hello as a string, it is important that we type the string between \"\" -> \"hello\". Now we have a hello string. A string can include numbers, letters or other characters, as long as we type the string between \" \". We can even leave it blank and not type anything in between \" \".\n",
    "\n",
    "int - int stands for integer and is used to store whole number that can be positive, negative or zero, for example 144. An integer cannot be a fractional number. \n",
    "\n",
    "float - a float is a decimal or fractional number, for example 22.5.\n",
    "\n",
    "bool - bool stands for boolean. This is a very interesting data type, because it can only hold one of two different values - either true or false. We will learn more about boolean variables and \n",
    "        what this data type is used for in the module for Loops.\n",
    "\n",
    "list - lists can be used to store multiple items in one single variable. Lists are created by using square brackets , for example myList = [ ]. We will look at lists in more detail in the Lists\n",
    "        module.\n"
   ]
  },
  {
   "cell_type": "markdown",
   "metadata": {},
   "source": [
    "# Variables <a id=\"variables\"></a>\n",
    "\n",
    "If we want to store data values, we can use variables. Variables act like containers and can store data. For example, we can create a variable y and assign the value 5 to it, y = 5. y now has the value 5, so if we print y by calling print(y), the output will be 5.\n",
    "\n",
    "If we want to change the value assigned to a variable, we can overwrite it by assigning a new value to it. y = 6 will now assign 6 to y, and overwrite y = 5. So if we print y by calling print (y), the output is now 6.\n",
    "\n",
    "A variable can be a string, a float, an integer, a list or another data type."
   ]
  },
  {
   "cell_type": "markdown",
   "metadata": {},
   "source": [
    "### Coding excercise:\n",
    "1. Create a variable called \"name\" and assign your name to it.\n",
    "2. Define an integer variable called \"age\" and assign your age to it.\n",
    "3. Define a float variable called \"height\" and assign your height to it.\n",
    "4. Define a boolean variable called \"is_student\" and assign True to it, if you are student.\n",
    "5. Create a list called \"favourite_fruits\" and assign 3 different fruits to it.\n",
    "6. Print out the values for \"name\", \"age\", \"height\", \"is_student\" and \"favourite_fruits\""
   ]
  },
  {
   "cell_type": "code",
   "execution_count": null,
   "metadata": {},
   "outputs": [],
   "source": []
  },
  {
   "cell_type": "code",
   "execution_count": null,
   "metadata": {},
   "outputs": [],
   "source": []
  },
  {
   "cell_type": "code",
   "execution_count": null,
   "metadata": {},
   "outputs": [],
   "source": []
  },
  {
   "cell_type": "code",
   "execution_count": null,
   "metadata": {},
   "outputs": [],
   "source": []
  },
  {
   "cell_type": "code",
   "execution_count": null,
   "metadata": {},
   "outputs": [],
   "source": []
  },
  {
   "cell_type": "markdown",
   "metadata": {},
   "source": [
    "# Lists <a id=\"lists\"></a>"
   ]
  },
  {
   "cell_type": "markdown",
   "metadata": {},
   "source": [
    "Lists are a data type in Python and can be used to store multiple items in a single variable. Lists are created by using square brackets [] and listing the items on the list, for example:\n",
    "\n",
    "> myList = [\"apple\", \"banana\", \"cherry\"]\n",
    "\n",
    "It is important that the items in the list are listed in between \" \". We can separate the items in the list through a comma. There is no limit to the number of items we can have in the list, and we can even delete or add items to the list later.\n",
    "A list is always ordered, which means that the order will not change. If we add items to our list, they will be placed at the end of the list. A list also allows for duplicates, which means that we can add the same item to the list twice.\n",
    "If we want to print our list, we call a print statement followed by our list, for example:\n",
    "> print(myList)\n",
    "\n",
    "This will print the content of the list.\n",
    "\n",
    "We can also add more items to the list by appending them through the following command:\n",
    "> myList.append(\"Orange\").\n",
    "\n",
    "This will add \"Orange\" to the myList list. We now have a list myList = [\"apple\", \"banana\", \"cherry\", \"orange\"]\n",
    "\n",
    "All lists in Python are indexed, which means that each item has an index number. The first item has index[0],the second item has index[1]. \n",
    "We can also print items that are located at a specific index. Remember, the first item in the list has index[0], so if we want to retrieve the first item in the list, we can call the following command:\n",
    "> myList[0]\n",
    "\n",
    "which will return \"apple\".\n",
    "If we want to print the result, we create a print statement and include the list and index, for example\n",
    " \n",
    " > print(myList[0]).\n",
    "\n",
    "Can you tell what print(myList[2]) will print?\n",
    "\n",
    "Now we can add items to the list, print the list and even print the items for specific indices, but when working with lists, we will also need to be able to delete items from a list.\n",
    "To delete items from a list, we call remove on our list and include the item that we want to remove, for example myList.remove(\"apple\")\n",
    "If we now print the list again, you will notice that apple has been removed. \n",
    "If you now call print(myList[0]), what do you think is going to happen?\n",
    "\n",
    "In some cases, we might want to remove an item at a specific index, rather than the item name. In this case, we can call pop on our list and include the index number, for example myList.pop(0), which will remove the first item in the list.\n",
    "If we dont specifiy pop and just call myList.pop(), this will automatically remove the last item in the list.\n",
    "\n",
    "In some cases, we might want to delete the entire list. We can do this by calling del myList. But be careful - this does not only remove the items, it deletes the entire list so it no longer exists. If we want to work with the list again, we will have to re-create it.\n",
    "\n",
    "Before deleting a list, it might be better to clear it instead. This will remove all items from the list, but the list still exists - as an empty list.\n",
    "To clear a list (and remove all items at the same time), we call clear on our list, for example myList.clear(). If we have a long list and want to remove all items, this is much quicker than removing each item one by one."
   ]
  },
  {
   "cell_type": "markdown",
   "metadata": {},
   "source": [
    "There is another type of list in Python, called Tuple. A tuple can also be used to store multiple items in a single variable and is created by using round brackets (), for example myTuple = (\"apple, \"banana\", \"cherry). The difference between a list and a tuple is that a tuple  cannot be changed, so once we have created it, we cannot add or delete any items to or from it. Lists are more commonly used, so we will focus on lists in our coding excercises."
   ]
  },
  {
   "cell_type": "markdown",
   "metadata": {},
   "source": [
    "### Coding excercise: \n",
    "1. Create a list that includes 6 items for grocery shopping.\n",
    "2. Can you print out the list?\n",
    "3. Add 3 more items to the list.\n",
    "4. Delete items at index[2] and index [4].\n",
    "5. Print the list again. What do you notice? Is this what you had expected to happen?"
   ]
  },
  {
   "cell_type": "code",
   "execution_count": null,
   "metadata": {},
   "outputs": [],
   "source": []
  },
  {
   "cell_type": "code",
   "execution_count": null,
   "metadata": {},
   "outputs": [],
   "source": []
  },
  {
   "cell_type": "markdown",
   "metadata": {},
   "source": []
  },
  {
   "cell_type": "markdown",
   "metadata": {},
   "source": [
    "# Functions and Input Parameteres <a id=\"functions-parameters\"></a>"
   ]
  },
  {
   "cell_type": "markdown",
   "metadata": {},
   "source": [
    "Functions are blocks of code that perform a specific task. They allow you to break down your code into smaller, reusable parts, which makes your code more organized, easier to understand, and maintainable.\n",
    "In Python, you define a function using the def keyword followed by the function name and parentheses (). You can also specify input parameters (also known as arguments) inside the parentheses."
   ]
  },
  {
   "cell_type": "code",
   "execution_count": 5,
   "metadata": {},
   "outputs": [],
   "source": [
    "def greet():\n",
    "    print(\"Hello, world!\")"
   ]
  },
  {
   "cell_type": "markdown",
   "metadata": {},
   "source": [
    "To execute a function, you simply write its name followed by parentheses ()"
   ]
  },
  {
   "cell_type": "code",
   "execution_count": 4,
   "metadata": {},
   "outputs": [
    {
     "name": "stdout",
     "output_type": "stream",
     "text": [
      "Hello, world\n"
     ]
    }
   ],
   "source": [
    "greet()"
   ]
  },
  {
   "cell_type": "markdown",
   "metadata": {},
   "source": [
    "Functions can take input parameters, which are values passed to the function when it is called. These parameters can be used within the function to perform operations. \n",
    "\n",
    "For example, we can create a function that takes a and b as input and create a variable which is the sum of a+b.\n",
    "We then print out the sum of a+b.\n",
    "When we call the function, in the parentheses we can define the values for a and b, in this example 2 and 3. \n",
    "The program will then print 5 as the result."
   ]
  },
  {
   "cell_type": "code",
   "execution_count": 10,
   "metadata": {},
   "outputs": [
    {
     "name": "stdout",
     "output_type": "stream",
     "text": [
      "Sum: 5\n"
     ]
    }
   ],
   "source": [
    "def add_numbers(a, b):\n",
    "    sum = a + b\n",
    "    print('Sum:', sum)\n",
    "\n",
    "add_numbers(2, 3)"
   ]
  },
  {
   "cell_type": "markdown",
   "metadata": {},
   "source": [
    "### Coding Exercise:\n",
    "1. Can you write a function that  takes a user_name as input, then prints Hello followed by the user_name as the output. When you call the function, you can test it by entering your own name as input.\n",
    "2. Can you write a function that calculates the area of a rectangle by taking length and width as input parameters? The area is calculated as length * width. Can you also print the area of the rectangle?"
   ]
  },
  {
   "cell_type": "code",
   "execution_count": null,
   "metadata": {},
   "outputs": [],
   "source": []
  },
  {
   "cell_type": "code",
   "execution_count": null,
   "metadata": {},
   "outputs": [],
   "source": [
    "def greet(user_name):\n",
    "    print(\"Hello \" + user_name + \"!\")\n",
    "\n",
    "greet(\"Mickey Mouse\")\n"
   ]
  },
  {
   "cell_type": "code",
   "execution_count": 12,
   "metadata": {},
   "outputs": [
    {
     "name": "stdout",
     "output_type": "stream",
     "text": [
      "Area of the rectangle with length 5 and width 3 is: 15\n"
     ]
    }
   ],
   "source": [
    "def calculate_rectangle_area(length, width):\n",
    "    area = length * width\n",
    "    return area\n",
    "\n",
    "length = 5\n",
    "width = 3\n",
    "area = calculate_rectangle_area(length, width)\n",
    "print(\"Area of the rectangle with length\", length, \"and width\", width, \"is:\", area)"
   ]
  },
  {
   "cell_type": "markdown",
   "metadata": {},
   "source": [
    "# Loops / If-else statement <a id=\"loops\"></a>"
   ]
  },
  {
   "cell_type": "markdown",
   "metadata": {},
   "source": [
    "Loops are constructs that allow you to repeat a block of code multiple times without having to write the code repeatedly. Loops help to automate repetitive tasks and iterate over collections of data. For example, if we have a list, we can use a loop to go through the different items in the list to access what is stored in the list. In Python, there are different types of loops:\n",
    "\n",
    "###  for loop <a id=\"for-loop\"></a>\n",
    "A for loop can be used to iterate over a sequence, such as a list, tuple or string\n",
    "For example, if we have a list of fruits, we can use a for loop to print the items in the list.\n",
    "> fruits = [\"apple\", \"banana\", \"cherry\"]\n",
    "> \n",
    "> for fruit in fruits:\n",
    "> \n",
    ">       print(fruit)\n",
    "\n",
    "What do you think the program will print?\n",
    "Can you add more items to the list and print the list again?\n",
    "\n",
    "\n",
    "\n",
    "### while loop <a id=\"while-loop\"></a>\n",
    "A while loop executes a block of code repeatedly as long as a specified condition is true. This is useful if we want a program to keep running and not finish after we run it once. We can define a certain condition that will determine whether our program will keep running. It we want our program to keep running indefinitely until we close it, we can set the condition to true. That means, as the condition won't ever be false (unless we change it), that our program will keep running.\n",
    "\n",
    "In the following program, we create a variable num to hold a number. We start with 1. While num (the number) is less than 5, the program will print the number and add 1 to it - until it reaches 5."
   ]
  },
  {
   "cell_type": "code",
   "execution_count": null,
   "metadata": {},
   "outputs": [],
   "source": []
  },
  {
   "cell_type": "code",
   "execution_count": null,
   "metadata": {},
   "outputs": [],
   "source": []
  },
  {
   "cell_type": "code",
   "execution_count": null,
   "metadata": {},
   "outputs": [],
   "source": []
  },
  {
   "cell_type": "code",
   "execution_count": null,
   "metadata": {},
   "outputs": [],
   "source": []
  },
  {
   "cell_type": "code",
   "execution_count": null,
   "metadata": {},
   "outputs": [],
   "source": []
  },
  {
   "cell_type": "code",
   "execution_count": null,
   "metadata": {},
   "outputs": [],
   "source": []
  },
  {
   "cell_type": "markdown",
   "metadata": {},
   "source": [
    "> num = 5\n",
    "> \n",
    "> while num <= 5:\n",
    "> \n",
    ">       print(num)\n",
    "> \n",
    ">        num += 1"
   ]
  },
  {
   "cell_type": "markdown",
   "metadata": {},
   "source": [
    "What do you think will happen if you change num to 10?"
   ]
  },
  {
   "cell_type": "code",
   "execution_count": null,
   "metadata": {},
   "outputs": [],
   "source": []
  },
  {
   "cell_type": "code",
   "execution_count": null,
   "metadata": {},
   "outputs": [],
   "source": []
  },
  {
   "cell_type": "markdown",
   "metadata": {},
   "source": [
    "### If- else statement <a id=\"if-else\"></a>\n",
    "If- else statemnets allow you to make decicions in your code based on certain conditions that you can specify. This helps to control the flow of the program by executing different blocks of code depending on whether a condition is true or false.\n",
    "\n",
    "Lets write a program that checks, based on the age, whether a person is eligible to vote.\n",
    "First, we create a variable for age and assign an age to it.\n",
    "Then we check whether the age is greather than or equal to 18.\n",
    "If the age is greater than or equal to 18, the program should print a message \"You are eligible to vote.\"\n",
    "If the age is less than 18, the program should print a message \"You are not eligible to vote.\""
   ]
  },
  {
   "cell_type": "code",
   "execution_count": 12,
   "metadata": {},
   "outputs": [
    {
     "name": "stdout",
     "output_type": "stream",
     "text": [
      "You are eligible to vote.\n"
     ]
    }
   ],
   "source": [
    "age = 18\n",
    "if age >= 18:\n",
    "    print(\"You are eligible to vote.\")\n",
    "elif age > 18:\n",
    "    print(\"You are not eligible to vote yet.\")"
   ]
  },
  {
   "cell_type": "markdown",
   "metadata": {},
   "source": [
    "> Can you change the age? What do you notice?\n",
    "> Can you come up with another idea for an if-else statement?"
   ]
  },
  {
   "cell_type": "code",
   "execution_count": null,
   "metadata": {},
   "outputs": [],
   "source": []
  },
  {
   "cell_type": "code",
   "execution_count": null,
   "metadata": {},
   "outputs": [],
   "source": []
  },
  {
   "cell_type": "markdown",
   "metadata": {},
   "source": [
    "# Generating data <a id=\"generating-data\"></a>"
   ]
  },
  {
   "cell_type": "markdown",
   "metadata": {},
   "source": [
    "In the next module, we will learn how to read in data that is stored in a file. For now, we will use Python to generate random data for us that we can use to create different types of graphs to display the data.\n",
    "\n",
    "In this example, we use randomly generated data related to favourite pets. This could for example be survey data, where people were asked what their favourite pets are.\n"
   ]
  },
  {
   "cell_type": "markdown",
   "metadata": {},
   "source": [
    "First, we need to import the random module, so that we can use it in Python.\n",
    "The random module can be used to generate random data, for example random data. \n"
   ]
  },
  {
   "cell_type": "code",
   "execution_count": null,
   "metadata": {},
   "outputs": [],
   "source": [
    "import random"
   ]
  },
  {
   "cell_type": "markdown",
   "metadata": {},
   "source": [
    "In the next step, we need to create a list of pets, for which the random survey data will be created.\n",
    "Do you remember how to create a list? In this example we use a list of 5 pets."
   ]
  },
  {
   "cell_type": "code",
   "execution_count": null,
   "metadata": {},
   "outputs": [],
   "source": [
    "pets = ['Dogs', 'Cats', 'Birds', 'Fish', 'Rabbits']\n",
    "data = [18, 25, 72, 79, 68]"
   ]
  },
  {
   "cell_type": "markdown",
   "metadata": {},
   "source": [
    "We then need to create a variable that stores the data that we create. For now, we will name the variable data so that we can refer back to it later. We then use the random module through the command random.randint (this generates a random number) for the items that we have stored in the list of pets. \n",
    "We can also specify the range for the numbers to be created - in a survery, we would want to know how many people have answered that dog is their favourite animal. In this example we set the minimum to 0 and the maximum to 100."
   ]
  },
  {
   "cell_type": "code",
   "execution_count": null,
   "metadata": {},
   "outputs": [],
   "source": [
    "# data = [random.randint(0, 100) for _ in pets]\n",
    "\n",
    "print(\"Pets:\", pets)\n",
    "print(\"Data:\", data)"
   ]
  },
  {
   "cell_type": "markdown",
   "metadata": {},
   "source": [
    "Can you run the code multiple times? What changes in the data do you notice?"
   ]
  },
  {
   "cell_type": "markdown",
   "metadata": {},
   "source": [
    "In the next part of this module we will turn our data into a graph!"
   ]
  },
  {
   "cell_type": "markdown",
   "metadata": {},
   "source": [
    "# Creating Graphs  - Pie Chart <a id=\"creating-graphs\"></a>\n",
    "\n",
    "Graphs, also known as charts or plots, are visual representations of data. They are widely used in various fields, including statistics, science, engineering, finance, and more, to analyze and present data in a graphical format.\n",
    " There are different types of graphs available - in this module we will work with two types of graphs: Pie Chart and and Bar Graph. Pie Charts are used to display data as sclices of a circular pie. This is useful for showing the proportion of each cateogory in a dataset.\n",
    "Bar graphs represent data using rectangular bars of different lengths. This is useful for comparing data from different categories.\n",
    "\n",
    "Can you think of other types of graphs that you have used before?"
   ]
  },
  {
   "cell_type": "markdown",
   "metadata": {},
   "source": []
  },
  {
   "cell_type": "markdown",
   "metadata": {},
   "source": [
    "To create graphs, we need to import a library name matplotlib first. This is very useful if you want to create graphs to display data."
   ]
  },
  {
   "cell_type": "code",
   "execution_count": 1,
   "metadata": {},
   "outputs": [],
   "source": [
    "import matplotlib.pyplot as plt"
   ]
  },
  {
   "cell_type": "markdown",
   "metadata": {},
   "source": [
    "For our dataset, we first need to set the size for our graph. We will use 6 (inches) to ensure it is big enough so we can read it well, but not too large to fit on a screen. For this, we create a figure and set the figure size to 6."
   ]
  },
  {
   "cell_type": "code",
   "execution_count": 2,
   "metadata": {},
   "outputs": [
    {
     "data": {
      "text/plain": [
       "<Figure size 600x600 with 0 Axes>"
      ]
     },
     "execution_count": 2,
     "metadata": {},
     "output_type": "execute_result"
    },
    {
     "data": {
      "text/plain": [
       "<Figure size 600x600 with 0 Axes>"
      ]
     },
     "metadata": {},
     "output_type": "display_data"
    }
   ],
   "source": [
    "plt.figure(figsize=(6, 6))  "
   ]
  },
  {
   "cell_type": "markdown",
   "metadata": {},
   "source": [
    "So that we can see the data in the graph, there is one last step missing: We need to insert our data into the graph. We need to decide on a graph (Pie chart in this example) and then define labels - those will be displayed in the graph. In our example we use the list of pets we created earlier. We then need to define that we want the results shown in percent, and how many decimals we want to be shown. In this case we will display two decimals. Startangle can be used to rotate the pie chart to make it look better if we want to emphasize on a particular field. For now, we will set it to 140.\n",
    "\n",
    "We can also give it a name so that everyone know what the data is about."
   ]
  },
  {
   "cell_type": "code",
   "execution_count": 4,
   "metadata": {},
   "outputs": [
    {
     "ename": "<class 'NameError'>",
     "evalue": "name 'data' is not defined",
     "output_type": "error",
     "traceback": [
      "\u001b[0;31m---------------------------------------------------------------------------\u001b[0m",
      "\u001b[0;31mNameError\u001b[0m                                 Traceback (most recent call last)",
      "Cell \u001b[0;32mIn[4], line 1\u001b[0m\n\u001b[0;32m----> 1\u001b[0m plt\u001b[38;5;241m.\u001b[39mpie(\u001b[43mdata\u001b[49m, labels\u001b[38;5;241m=\u001b[39mpets, autopct\u001b[38;5;241m=\u001b[39m\u001b[38;5;124m'\u001b[39m\u001b[38;5;132;01m%1.2f\u001b[39;00m\u001b[38;5;132;01m%%\u001b[39;00m\u001b[38;5;124m'\u001b[39m, startangle\u001b[38;5;241m=\u001b[39m\u001b[38;5;241m140\u001b[39m)\n\u001b[1;32m      2\u001b[0m plt\u001b[38;5;241m.\u001b[39mtitle(\u001b[38;5;124m'\u001b[39m\u001b[38;5;124mWhat is your favourite pet?\u001b[39m\u001b[38;5;124m'\u001b[39m)\n",
      "\u001b[0;31mNameError\u001b[0m: name 'data' is not defined"
     ]
    }
   ],
   "source": [
    "plt.pie(data, labels=pets, autopct='%1.2f%%', startangle=140)\n",
    "plt.title('What is your favourite pet?')"
   ]
  },
  {
   "cell_type": "markdown",
   "metadata": {},
   "source": [
    "Well done!"
   ]
  },
  {
   "cell_type": "markdown",
   "metadata": {},
   "source": [
    "### Bar Graph <a id=\"bar-graph\"></a>"
   ]
  },
  {
   "cell_type": "markdown",
   "metadata": {},
   "source": [
    "As the last step, we are going to create a Bar graph, so we can use different types of graphs. Bar graphs can be useful for example when you need to compare categories or groups, or to display multiple datasets."
   ]
  },
  {
   "cell_type": "markdown",
   "metadata": {},
   "source": [
    "We need to set the figuresize, as we did for the pie chart. We are going to set it to the same size."
   ]
  },
  {
   "cell_type": "code",
   "execution_count": 5,
   "metadata": {},
   "outputs": [
    {
     "data": {
      "text/plain": [
       "<Figure size 600x600 with 0 Axes>"
      ]
     },
     "execution_count": 5,
     "metadata": {},
     "output_type": "execute_result"
    },
    {
     "data": {
      "text/plain": [
       "<Figure size 600x600 with 0 Axes>"
      ]
     },
     "metadata": {},
     "output_type": "display_data"
    }
   ],
   "source": [
    "plt.figure(figsize=(6, 6)) "
   ]
  },
  {
   "cell_type": "markdown",
   "metadata": {},
   "source": [
    "First, we need to define which type of graph we are creating - this one is a bar graph. As we now have bars in our graph, we need to refer it back to the list of pets and the data we created earlier. We can even set a colour for the bars.\n",
    "\n",
    "As we now have a x and y axis, we can also define different labels so that we know what is shown on the x and y axis. On the x axis, we want to see the different pet types. On the y axis, we want to see how many people have nominated each animal as their favourite. We can also add a title.\n",
    "Can you run the code? What do you see? Is this what you had expected?"
   ]
  },
  {
   "cell_type": "code",
   "execution_count": 6,
   "metadata": {},
   "outputs": [
    {
     "ename": "<class 'NameError'>",
     "evalue": "name 'pets' is not defined",
     "output_type": "error",
     "traceback": [
      "\u001b[0;31m---------------------------------------------------------------------------\u001b[0m",
      "\u001b[0;31mNameError\u001b[0m                                 Traceback (most recent call last)",
      "Cell \u001b[0;32mIn[6], line 1\u001b[0m\n\u001b[0;32m----> 1\u001b[0m plt\u001b[38;5;241m.\u001b[39mbar(\u001b[43mpets\u001b[49m, data, color\u001b[38;5;241m=\u001b[39m\u001b[38;5;124m'\u001b[39m\u001b[38;5;124mskyblue\u001b[39m\u001b[38;5;124m'\u001b[39m)\n\u001b[1;32m      3\u001b[0m plt\u001b[38;5;241m.\u001b[39mxlabel(\u001b[38;5;124m'\u001b[39m\u001b[38;5;124mPet Types\u001b[39m\u001b[38;5;124m'\u001b[39m)  \u001b[38;5;66;03m# Label for the x-axis\u001b[39;00m\n\u001b[1;32m      4\u001b[0m plt\u001b[38;5;241m.\u001b[39mylabel(\u001b[38;5;124m'\u001b[39m\u001b[38;5;124mValues\u001b[39m\u001b[38;5;124m'\u001b[39m)  \u001b[38;5;66;03m# Label for the y-axis\u001b[39;00m\n",
      "\u001b[0;31mNameError\u001b[0m: name 'pets' is not defined"
     ]
    }
   ],
   "source": [
    "plt.bar(pets, data, color='skyblue')\n",
    "\n",
    "plt.xlabel('Pet Types')  # Label for the x-axis\n",
    "plt.ylabel('Values')  # Label for the y-axis\n",
    "plt.title('Distribution of Pets')"
   ]
  },
  {
   "cell_type": "markdown",
   "metadata": {},
   "source": [
    "Challenge: Can you create another graph with different data and different categories, for example food? You can also change the number of categories."
   ]
  },
  {
   "cell_type": "code",
   "execution_count": null,
   "metadata": {},
   "outputs": [],
   "source": []
  },
  {
   "cell_type": "code",
   "execution_count": null,
   "metadata": {},
   "outputs": [],
   "source": []
  },
  {
   "cell_type": "code",
   "execution_count": null,
   "metadata": {},
   "outputs": [],
   "source": []
  },
  {
   "cell_type": "markdown",
   "metadata": {},
   "source": [
    "Well done for completing this module!"
   ]
  },
  {
   "cell_type": "code",
   "execution_count": null,
   "metadata": {},
   "outputs": [],
   "source": []
  }
 ],
 "metadata": {
  "kernelspec": {
   "display_name": "Python 3 (ipykernel)",
   "language": "python",
   "name": "python3"
  },
  "language_info": {
   "codemirror_mode": {
    "name": "ipython",
    "version": 3
   },
   "file_extension": ".py",
   "mimetype": "text/x-python",
   "name": "python",
   "nbconvert_exporter": "python",
   "pygments_lexer": "ipython3",
   "version": "3.11.5"
  }
 },
 "nbformat": 4,
 "nbformat_minor": 4
}
