{
 "cells": [
  {
   "cell_type": "markdown",
   "metadata": {},
   "source": [
    "# Table of Contents\n",
    "* [Getting Started](#Getting-Started)\n",
    "* [How to execute Code in Jupyter lab](#execute-code)\n",
    "* [Importing Modules](#importing-modules)\n",
    "* [Understanding Datasets](#understanding-datasets)\n",
    "    * [Unclean Datasets](#unclean-datasets)\n",
    "    * [Example](#Example)\n",
    "    * [Reading in Survey Question Text](#survey-text)\n",
    "    * [Reading in data from CSV File](#csv-file)\n",
    "* [Accessing and Manipulating Data](#accessing-data)\n",
    "    * [Changing Data Format](#data-format)\n",
    "* [Functions, arguments and keyword arguments](#functions)\n",
    "* [Creating your first categorical object](#categorical-object)\n",
    "* [Bar Graph and Pie Chart](#graph)\n",
    "* [Other Graphs](#other-graphs)\n",
    "    * [Graphing a Box Plot](#box-plot)\n",
    "    * [Unclean Data](#unclean-data)\n",
    "    * [Graphing a Scatter Graph](#scatter-graph)\n",
    "    * [Density Graphs](#density-graphs)\n",
    "* [Troubleshooting](#troubleshooting)\n",
    "* [Create your own Graphs](#own-graph)\n"
   ]
  },
  {
   "cell_type": "markdown",
   "metadata": {
    "vscode": {
     "languageId": "plaintext"
    }
   },
   "source": [
    "## Getting Started <a id=\"Getting-Started\"></a>\n",
    "\n",
    "The goal of this program was to give you a way to interact with data that is taken from the sleep survey using python. This will allow you an easy introduction to coding and handling data in general. The Programming Language used in this document is Python. Python is one of the most used programming languages today. It is majorly favoured by the computer science community and generally anyone that deals with data sets.\n",
    "\n",
    "Through using this program you will learn about the basics of using python and interacting with data sets.\n",
    "\n",
    "Keep in mind, one of the bugs with Jupyter and Pyplot integration is that it can only handle a certain number of graphs at once. This is why the graphs above the last executed cells disapear. You can make the graph reappear by simpling resizing the graph."
   ]
  },
  {
   "cell_type": "markdown",
   "metadata": {},
   "source": [
    "## How to execute Code in Jupyter Lab <a id=\"execute-code\"></a>\n",
    "\n",
    "All of the code an text in Jupyter Lab is split into cells. These cells are executed seperately from each other in order as you proceed through the notebook. All of the contents of the previously executed cells are still available to new cells as you proceed through the notebook. To execute each cell in this file you need to hit (Shift + Enter)."
   ]
  },
  {
   "cell_type": "markdown",
   "metadata": {},
   "source": [
    "## Importing Modules <a id=\"importing-modules\"></a>\n",
    "\n",
    "Importing modules is the way python code access extra code that is not usable by default. This is usefull as it allows for extra code to be easily accessed in the current file without manually copying all of the relevent classes and functions into the file.\n",
    "\n",
    "The modules used here are:\n",
    "json\n",
    "numpy\n",
    "pandas\n",
    "seaborn\n",
    "datagraph.\n",
    "These modules are essentailly what allows the code to create graphs and interact with the data."
   ]
  },
  {
   "cell_type": "code",
   "execution_count": 4,
   "metadata": {},
   "outputs": [
    {
     "ename": "ModuleNotFoundError",
     "evalue": "No module named 'ipympl'",
     "output_type": "error",
     "traceback": [
      "\u001b[1;31m---------------------------------------------------------------------------\u001b[0m",
      "\u001b[1;31mModuleNotFoundError\u001b[0m                       Traceback (most recent call last)",
      "Cell \u001b[1;32mIn[4], line 2\u001b[0m\n\u001b[0;32m      1\u001b[0m \u001b[38;5;66;03m#Enables the use of interactive graphs in JupyterLab\u001b[39;00m\n\u001b[1;32m----> 2\u001b[0m get_ipython()\u001b[38;5;241m.\u001b[39mrun_line_magic(\u001b[38;5;124m'\u001b[39m\u001b[38;5;124mmatplotlib\u001b[39m\u001b[38;5;124m'\u001b[39m, \u001b[38;5;124m'\u001b[39m\u001b[38;5;124mwidget\u001b[39m\u001b[38;5;124m'\u001b[39m)\n\u001b[0;32m      4\u001b[0m \u001b[38;5;28;01mimport\u001b[39;00m \u001b[38;5;21;01mnumpy\u001b[39;00m \u001b[38;5;28;01mas\u001b[39;00m \u001b[38;5;21;01mnp\u001b[39;00m \u001b[38;5;66;03m#Imports numpy: a third party module that handles numerical opperations\u001b[39;00m\n\u001b[0;32m      5\u001b[0m \u001b[38;5;28;01mimport\u001b[39;00m \u001b[38;5;21;01mpandas\u001b[39;00m \u001b[38;5;28;01mas\u001b[39;00m \u001b[38;5;21;01mpd\u001b[39;00m \u001b[38;5;66;03m#Imports pandas: a third party module that handles the reading of data (In our case the CSV file)\u001b[39;00m\n",
      "File \u001b[1;32mC:\\ProgramData\\anaconda3\\Lib\\site-packages\\IPython\\core\\interactiveshell.py:2432\u001b[0m, in \u001b[0;36mInteractiveShell.run_line_magic\u001b[1;34m(self, magic_name, line, _stack_depth)\u001b[0m\n\u001b[0;32m   2430\u001b[0m     kwargs[\u001b[38;5;124m'\u001b[39m\u001b[38;5;124mlocal_ns\u001b[39m\u001b[38;5;124m'\u001b[39m] \u001b[38;5;241m=\u001b[39m \u001b[38;5;28mself\u001b[39m\u001b[38;5;241m.\u001b[39mget_local_scope(stack_depth)\n\u001b[0;32m   2431\u001b[0m \u001b[38;5;28;01mwith\u001b[39;00m \u001b[38;5;28mself\u001b[39m\u001b[38;5;241m.\u001b[39mbuiltin_trap:\n\u001b[1;32m-> 2432\u001b[0m     result \u001b[38;5;241m=\u001b[39m fn(\u001b[38;5;241m*\u001b[39margs, \u001b[38;5;241m*\u001b[39m\u001b[38;5;241m*\u001b[39mkwargs)\n\u001b[0;32m   2434\u001b[0m \u001b[38;5;66;03m# The code below prevents the output from being displayed\u001b[39;00m\n\u001b[0;32m   2435\u001b[0m \u001b[38;5;66;03m# when using magics with decorator @output_can_be_silenced\u001b[39;00m\n\u001b[0;32m   2436\u001b[0m \u001b[38;5;66;03m# when the last Python token in the expression is a ';'.\u001b[39;00m\n\u001b[0;32m   2437\u001b[0m \u001b[38;5;28;01mif\u001b[39;00m \u001b[38;5;28mgetattr\u001b[39m(fn, magic\u001b[38;5;241m.\u001b[39mMAGIC_OUTPUT_CAN_BE_SILENCED, \u001b[38;5;28;01mFalse\u001b[39;00m):\n",
      "File \u001b[1;32mC:\\ProgramData\\anaconda3\\Lib\\site-packages\\IPython\\core\\magics\\pylab.py:99\u001b[0m, in \u001b[0;36mPylabMagics.matplotlib\u001b[1;34m(self, line)\u001b[0m\n\u001b[0;32m     97\u001b[0m     \u001b[38;5;28mprint\u001b[39m(\u001b[38;5;124m\"\u001b[39m\u001b[38;5;124mAvailable matplotlib backends: \u001b[39m\u001b[38;5;132;01m%s\u001b[39;00m\u001b[38;5;124m\"\u001b[39m \u001b[38;5;241m%\u001b[39m backends_list)\n\u001b[0;32m     98\u001b[0m \u001b[38;5;28;01melse\u001b[39;00m:\n\u001b[1;32m---> 99\u001b[0m     gui, backend \u001b[38;5;241m=\u001b[39m \u001b[38;5;28mself\u001b[39m\u001b[38;5;241m.\u001b[39mshell\u001b[38;5;241m.\u001b[39menable_matplotlib(args\u001b[38;5;241m.\u001b[39mgui\u001b[38;5;241m.\u001b[39mlower() \u001b[38;5;28;01mif\u001b[39;00m \u001b[38;5;28misinstance\u001b[39m(args\u001b[38;5;241m.\u001b[39mgui, \u001b[38;5;28mstr\u001b[39m) \u001b[38;5;28;01melse\u001b[39;00m args\u001b[38;5;241m.\u001b[39mgui)\n\u001b[0;32m    100\u001b[0m     \u001b[38;5;28mself\u001b[39m\u001b[38;5;241m.\u001b[39m_show_matplotlib_backend(args\u001b[38;5;241m.\u001b[39mgui, backend)\n",
      "File \u001b[1;32mC:\\ProgramData\\anaconda3\\Lib\\site-packages\\IPython\\core\\interactiveshell.py:3621\u001b[0m, in \u001b[0;36mInteractiveShell.enable_matplotlib\u001b[1;34m(self, gui)\u001b[0m\n\u001b[0;32m   3617\u001b[0m         \u001b[38;5;28mprint\u001b[39m(\u001b[38;5;124m'\u001b[39m\u001b[38;5;124mWarning: Cannot change to a different GUI toolkit: \u001b[39m\u001b[38;5;132;01m%s\u001b[39;00m\u001b[38;5;124m.\u001b[39m\u001b[38;5;124m'\u001b[39m\n\u001b[0;32m   3618\u001b[0m                 \u001b[38;5;124m'\u001b[39m\u001b[38;5;124m Using \u001b[39m\u001b[38;5;132;01m%s\u001b[39;00m\u001b[38;5;124m instead.\u001b[39m\u001b[38;5;124m'\u001b[39m \u001b[38;5;241m%\u001b[39m (gui, \u001b[38;5;28mself\u001b[39m\u001b[38;5;241m.\u001b[39mpylab_gui_select))\n\u001b[0;32m   3619\u001b[0m         gui, backend \u001b[38;5;241m=\u001b[39m pt\u001b[38;5;241m.\u001b[39mfind_gui_and_backend(\u001b[38;5;28mself\u001b[39m\u001b[38;5;241m.\u001b[39mpylab_gui_select)\n\u001b[1;32m-> 3621\u001b[0m pt\u001b[38;5;241m.\u001b[39mactivate_matplotlib(backend)\n\u001b[0;32m   3622\u001b[0m configure_inline_support(\u001b[38;5;28mself\u001b[39m, backend)\n\u001b[0;32m   3624\u001b[0m \u001b[38;5;66;03m# Now we must activate the gui pylab wants to use, and fix %run to take\u001b[39;00m\n\u001b[0;32m   3625\u001b[0m \u001b[38;5;66;03m# plot updates into account\u001b[39;00m\n",
      "File \u001b[1;32mC:\\ProgramData\\anaconda3\\Lib\\site-packages\\IPython\\core\\pylabtools.py:368\u001b[0m, in \u001b[0;36mactivate_matplotlib\u001b[1;34m(backend)\u001b[0m\n\u001b[0;32m    363\u001b[0m \u001b[38;5;66;03m# Due to circular imports, pyplot may be only partially initialised\u001b[39;00m\n\u001b[0;32m    364\u001b[0m \u001b[38;5;66;03m# when this function runs.\u001b[39;00m\n\u001b[0;32m    365\u001b[0m \u001b[38;5;66;03m# So avoid needing matplotlib attribute-lookup to access pyplot.\u001b[39;00m\n\u001b[0;32m    366\u001b[0m \u001b[38;5;28;01mfrom\u001b[39;00m \u001b[38;5;21;01mmatplotlib\u001b[39;00m \u001b[38;5;28;01mimport\u001b[39;00m pyplot \u001b[38;5;28;01mas\u001b[39;00m plt\n\u001b[1;32m--> 368\u001b[0m plt\u001b[38;5;241m.\u001b[39mswitch_backend(backend)\n\u001b[0;32m    370\u001b[0m plt\u001b[38;5;241m.\u001b[39mshow\u001b[38;5;241m.\u001b[39m_needmain \u001b[38;5;241m=\u001b[39m \u001b[38;5;28;01mFalse\u001b[39;00m\n\u001b[0;32m    371\u001b[0m \u001b[38;5;66;03m# We need to detect at runtime whether show() is called by the user.\u001b[39;00m\n\u001b[0;32m    372\u001b[0m \u001b[38;5;66;03m# For this, we wrap it into a decorator which adds a 'called' flag.\u001b[39;00m\n",
      "File \u001b[1;32mC:\\ProgramData\\anaconda3\\Lib\\site-packages\\matplotlib\\pyplot.py:271\u001b[0m, in \u001b[0;36mswitch_backend\u001b[1;34m(newbackend)\u001b[0m\n\u001b[0;32m    268\u001b[0m \u001b[38;5;66;03m# have to escape the switch on access logic\u001b[39;00m\n\u001b[0;32m    269\u001b[0m old_backend \u001b[38;5;241m=\u001b[39m \u001b[38;5;28mdict\u001b[39m\u001b[38;5;241m.\u001b[39m\u001b[38;5;21m__getitem__\u001b[39m(rcParams, \u001b[38;5;124m'\u001b[39m\u001b[38;5;124mbackend\u001b[39m\u001b[38;5;124m'\u001b[39m)\n\u001b[1;32m--> 271\u001b[0m backend_mod \u001b[38;5;241m=\u001b[39m importlib\u001b[38;5;241m.\u001b[39mimport_module(\n\u001b[0;32m    272\u001b[0m     cbook\u001b[38;5;241m.\u001b[39m_backend_module_name(newbackend))\n\u001b[0;32m    274\u001b[0m required_framework \u001b[38;5;241m=\u001b[39m _get_required_interactive_framework(backend_mod)\n\u001b[0;32m    275\u001b[0m \u001b[38;5;28;01mif\u001b[39;00m required_framework \u001b[38;5;129;01mis\u001b[39;00m \u001b[38;5;129;01mnot\u001b[39;00m \u001b[38;5;28;01mNone\u001b[39;00m:\n",
      "File \u001b[1;32mC:\\ProgramData\\anaconda3\\Lib\\importlib\\__init__.py:126\u001b[0m, in \u001b[0;36mimport_module\u001b[1;34m(name, package)\u001b[0m\n\u001b[0;32m    124\u001b[0m             \u001b[38;5;28;01mbreak\u001b[39;00m\n\u001b[0;32m    125\u001b[0m         level \u001b[38;5;241m+\u001b[39m\u001b[38;5;241m=\u001b[39m \u001b[38;5;241m1\u001b[39m\n\u001b[1;32m--> 126\u001b[0m \u001b[38;5;28;01mreturn\u001b[39;00m _bootstrap\u001b[38;5;241m.\u001b[39m_gcd_import(name[level:], package, level)\n",
      "File \u001b[1;32m<frozen importlib._bootstrap>:1204\u001b[0m, in \u001b[0;36m_gcd_import\u001b[1;34m(name, package, level)\u001b[0m\n",
      "File \u001b[1;32m<frozen importlib._bootstrap>:1176\u001b[0m, in \u001b[0;36m_find_and_load\u001b[1;34m(name, import_)\u001b[0m\n",
      "File \u001b[1;32m<frozen importlib._bootstrap>:1126\u001b[0m, in \u001b[0;36m_find_and_load_unlocked\u001b[1;34m(name, import_)\u001b[0m\n",
      "File \u001b[1;32m<frozen importlib._bootstrap>:241\u001b[0m, in \u001b[0;36m_call_with_frames_removed\u001b[1;34m(f, *args, **kwds)\u001b[0m\n",
      "File \u001b[1;32m<frozen importlib._bootstrap>:1204\u001b[0m, in \u001b[0;36m_gcd_import\u001b[1;34m(name, package, level)\u001b[0m\n",
      "File \u001b[1;32m<frozen importlib._bootstrap>:1176\u001b[0m, in \u001b[0;36m_find_and_load\u001b[1;34m(name, import_)\u001b[0m\n",
      "File \u001b[1;32m<frozen importlib._bootstrap>:1140\u001b[0m, in \u001b[0;36m_find_and_load_unlocked\u001b[1;34m(name, import_)\u001b[0m\n",
      "\u001b[1;31mModuleNotFoundError\u001b[0m: No module named 'ipympl'"
     ]
    }
   ],
   "source": [
    "#Enables the use of interactive graphs in JupyterLab\n",
    "%matplotlib widget \n",
    "\n",
    "import numpy as np #Imports numpy: a third party module that handles numerical opperations\n",
    "import pandas as pd #Imports pandas: a third party module that handles the reading of data (In our case the CSV file)\n",
    "import json, re #Imports json: an inbuilt modules the reading of JSON files (Extracts the question text)\n",
    "\n",
    "from datagraph import Categorical, Other #Used to import the custom module that I Made that you will use to graph data"
   ]
  },
  {
   "cell_type": "markdown",
   "metadata": {},
   "source": [
    "## Reading JSON files and understanding datasets <a id=\"understanding-datasets\"></a>\n",
    "\n",
    "One of the most important steps when first looking at a dataset is understanding what the numbers represent or how information is represented. You need to know if the data stored consists of numerical data or as a group of letters (Strings). If this step is not done, data may not be read in correctly. It can also lead to unimportant data being analised and the conslusions made useless.\n",
    "\n",
    "e.g If you analise a random set of numbers and find out what the mean and standard deviation are without knowing what those numbers represent that information is basically useless. While you may now know the characteristics of the data if you don't know how that translates in the real world what was the point of doing the analysis in the first place.\n",
    "\n",
    "In our case the numbers can represent many things including:\n",
    "\n",
    "Your Gender\n",
    "How Old You Are\n",
    "Which Number Option You Chose To A Multichoice Question\n",
    "Any Many More\n",
    "To gain a better understanding of the data it is recommended that you go to the following link and generate some graphs. https://learn.pawsey.org.au/data/sleep/graphs"
   ]
  },
  {
   "cell_type": "markdown",
   "metadata": {},
   "source": [
    "## Unclean Datasets <a id=\"unclean-datasets\"></a>\n",
    "\n",
    "An important step to processing data is making sure it is clean. In the sleep survey people are not required to do all of the seperate sections of the survey. This means that for some columns in the data may have blank cells that contain no data for specific questions. If this possible no answer is not taken into account it could affect statistics drawn from the data. e.g It could drop the average of an answer drastically.\n",
    "\n",
    "Another common problem with the dataset collected is that some answers can be wrong or an outlier. e.g Someone on this survey has answered their age as 200 years old. If this data is not excluded or dealt with it could drastically affect the results drawn from that questions answers."
   ]
  },
  {
   "cell_type": "markdown",
   "metadata": {},
   "source": [
    "## Example  <a id=\"Example\"></a>\n",
    "\n",
    "A common way that this informatiom is stored on websites is in JSON files. The JSON files we are reading 'sleep.jsonc' esentailly contains all of the all of the information that was used to create the sleep questionair that you have filled out.\n",
    "\n",
    "Under the code cell below you will see two different outputs. The two groups shown below, surounded by curly brackets {}, contain what is know as a dictionary of all of the questions and fields in the sleep.jsonc file. You will notice that each small section of data first has a group of characters (Strings) contained in 'single quotation marks' and then has a collon : with data following that. The first group surounded by, ' ', with a question mark at the end is the question and the second part after the collon, :, is what fields the data will be in.\n",
    "\n",
    "In the small exert below 'What is your gender' is the question asked and ['Male', 'Female', 'Non-binary' and 'Prefer not to say'] are the possible otions the user can select. 'How often do I go to bed and worry about things happening at home or at school?' is again the question with ['Never', 'Once in a while', 'Sometimes', 'Quite often', 'Frequently if not always', 'Always'] being the possible choices in the quiz.\n",
    "\n",
    "{'What is your gender?': ['Male', 'Female', 'Non-binary', 'Prefer not to say'], ..., 'How often do I go to bed and worry about things happening at home or at school?': ['Never', 'Once in a while', 'Sometimes', 'Quite often', 'Frequently if not always', 'Always']}\n",
    "\n",
    "It is important that you can fild exactly how the questions are written as you will need this to access the surveys' data later."
   ]
  },
  {
   "cell_type": "markdown",
   "metadata": {},
   "source": [
    "##  Reading in Survey Question Text <a id=\"survey-text\"></a>\n",
    "\n",
    "Lets read in the JSON file and extract the questions from it.\n",
    "The Two Groups of data printed below the code contain all of the questions in the survey. The first group of text is all of the categorical graph questions and labels that are stored in the sleep.jsonc file. The second group of text shows all of the non-categorical question data."
   ]
  },
  {
   "cell_type": "code",
   "execution_count": null,
   "metadata": {},
   "outputs": [],
   "source": [
    "# https://stackoverflow.com/questions/46317639/how-can-i-handle-reading-a-json-file-in-it-that-has-comments-with-python/46317842\n",
    "# https://docs.python.org/3/tutorial/inputoutput.html\n",
    "\n",
    "with open('sleep.jsonc', 'r') as f: #Opens the sleep.jsonc file, reads its contents and stored the dat as s\n",
    "    s = f.read()\n",
    "s = str(s) #converts 's' to a string\n",
    "\n",
    "jsonObject = json.loads(re.sub(\"//.*\",\"\",s,flags=re.MULTILINE)) #this is a little complicated. This essentially creates an object representation of a JSON file in the code. \n",
    "#It also uses regular expressions to change the jsonc (JSON file with c style comments) to a standard JSON file format by removing all the comments.\n",
    "# print(jsonObject)\n",
    "\n",
    "# print(jsonObject['questions'])\n",
    "categorical_labels = {} #Dictionary created for storing categorical questions\n",
    "other_labels = {} #Dictionary created for storing other types of questions\n",
    "\n",
    "for i in jsonObject['questions']: #This loop actually reads in the question text data.\n",
    "    try: \n",
    "        # print(f' {i[\"text\"]}: {i[\"values\"]}')\n",
    "        if isinstance(i[\"values\"][0], dict): # If the current object is of type dictionary the data is Categorical.\n",
    "            tlist = []\n",
    "            for j in i[\"values\"]:\n",
    "                tlist.append(j[\"label\"])\n",
    "            categorical_labels[i[\"text\"]] = tlist #Adds the question text to a new dictionary\n",
    "        else:   # If the object is not a dictionary then it must not be categorical.\n",
    "            categorical_labels[i[\"text\"]] = i[\"values\"]\n",
    "    except:\n",
    "        other_labels[i[\"text\"]] = i[\"type\"]\n",
    "        pass\n",
    "#Want the Values column for each question if it exists\n",
    "print(categorical_labels)\n",
    "print(len(categorical_labels))\n",
    "print(f\"\\n\\n{other_labels}\")\n",
    "print(len(other_labels))"
   ]
  },
  {
   "cell_type": "markdown",
   "metadata": {},
   "source": [
    "## Reading in Survey Data from CSV Files <a id=\"csv-file\"></a>\n",
    "\n",
    "CSV, Comma-Separated-Values files are a common file type that is used to store data. The file is of a format where each seperate piece of data is seperated by a comma. This format allows for each seperate piece of data to be extracted easily by the computer.\n",
    "The code bellow uses a module called pandas to read all of the files from the surveydata.csv file. This data is stored in a variable called s_data. Bellow the code you can see that data that is being imported in a chart. The question titles can be seen in bold at the top of the chart."
   ]
  },
  {
   "cell_type": "code",
   "execution_count": null,
   "metadata": {},
   "outputs": [],
   "source": [
    "s_data = pd.read_csv('surveydata.csv') #A Function in pandas that reads in CSV files and creates a dataFrame or a data Series.\n",
    "s_data #Prints the dataFrame to the window"
   ]
  },
  {
   "cell_type": "markdown",
   "metadata": {},
   "source": [
    " ## Accessing and Manipulating Data <a id=\"accessing-data\"></a>\n",
    "\n",
    "All of the data will now be accessed by using the s_data variable. This is where knowing the exact questions asked in the survey is important. To acess the data contained in columns of the data above you need to use the following code: s_data['question'], where question in the question that you want the data from.\n",
    "\n",
    "For example:\n",
    "data = s_data['In which city are you currently located?']\n",
    "\n",
    "data = s_data['How old are you?']\n",
    "\n",
    "In the following two blocks you can see what this looks like. Feel free to change the question text contained in the [] bellow to see what other field of data look like."
   ]
  },
  {
   "cell_type": "code",
   "execution_count": 5,
   "metadata": {},
   "outputs": [
    {
     "ename": "NameError",
     "evalue": "name 's_data' is not defined",
     "output_type": "error",
     "traceback": [
      "\u001b[1;31m---------------------------------------------------------------------------\u001b[0m",
      "\u001b[1;31mNameError\u001b[0m                                 Traceback (most recent call last)",
      "Cell \u001b[1;32mIn[5], line 1\u001b[0m\n\u001b[1;32m----> 1\u001b[0m data \u001b[38;5;241m=\u001b[39m s_data[\u001b[38;5;124m'\u001b[39m\u001b[38;5;124mIn which city are you currently located?\u001b[39m\u001b[38;5;124m'\u001b[39m] \u001b[38;5;66;03m#Gets the relevent data for the question\u001b[39;00m\n\u001b[0;32m      2\u001b[0m data\n",
      "\u001b[1;31mNameError\u001b[0m: name 's_data' is not defined"
     ]
    }
   ],
   "source": [
    "data = s_data['In which city are you currently located?'] #Gets the relevent data for the question\n",
    "data #Prints Out The Series"
   ]
  },
  {
   "cell_type": "code",
   "execution_count": 6,
   "metadata": {},
   "outputs": [
    {
     "ename": "NameError",
     "evalue": "name 's_data' is not defined",
     "output_type": "error",
     "traceback": [
      "\u001b[1;31m---------------------------------------------------------------------------\u001b[0m",
      "\u001b[1;31mNameError\u001b[0m                                 Traceback (most recent call last)",
      "Cell \u001b[1;32mIn[6], line 1\u001b[0m\n\u001b[1;32m----> 1\u001b[0m data \u001b[38;5;241m=\u001b[39m s_data[\u001b[38;5;124m'\u001b[39m\u001b[38;5;124mHow old are you?\u001b[39m\u001b[38;5;124m'\u001b[39m] \u001b[38;5;66;03m#Gets the relevent data for the question\u001b[39;00m\n\u001b[0;32m      2\u001b[0m data\n",
      "\u001b[1;31mNameError\u001b[0m: name 's_data' is not defined"
     ]
    }
   ],
   "source": [
    "data = s_data['How old are you?'] #Gets the relevent data for the question\n",
    "data #Prints Out The Series"
   ]
  },
  {
   "cell_type": "markdown",
   "metadata": {},
   "source": [
    "## Changing data format <a id=\"data-format\"></a>\n",
    "\n",
    "Currently the data is in the wrong data type for it to be graphed using the methods in the datagraph module. Another Problem you might come across is some data may contain Nan values. This is the module numpys' way of saying their was no data entered. To get rid of these nan values and change the data into the format we want we need to run the following code.\n",
    "[INSERT WHY WRONG DATA TYPE]"
   ]
  },
  {
   "cell_type": "code",
   "execution_count": 7,
   "metadata": {},
   "outputs": [
    {
     "ename": "NameError",
     "evalue": "name 'data' is not defined",
     "output_type": "error",
     "traceback": [
      "\u001b[1;31m---------------------------------------------------------------------------\u001b[0m",
      "\u001b[1;31mNameError\u001b[0m                                 Traceback (most recent call last)",
      "Cell \u001b[1;32mIn[7], line 1\u001b[0m\n\u001b[1;32m----> 1\u001b[0m m_data \u001b[38;5;241m=\u001b[39m data\u001b[38;5;241m.\u001b[39mdropna() \u001b[38;5;66;03m#Removes any Nan Values\u001b[39;00m\n\u001b[0;32m      2\u001b[0m m_data \u001b[38;5;241m=\u001b[39m m_data\u001b[38;5;241m.\u001b[39mto_numpy() \u001b[38;5;66;03m#Changes the pandas Series object to a Numpy List\u001b[39;00m\n\u001b[0;32m      3\u001b[0m m_data \u001b[38;5;241m=\u001b[39m m_data\u001b[38;5;241m.\u001b[39mtolist() \u001b[38;5;66;03m#Changes the Numpy list to a python list.\u001b[39;00m\n",
      "\u001b[1;31mNameError\u001b[0m: name 'data' is not defined"
     ]
    }
   ],
   "source": [
    "m_data = data.dropna() #Removes any Nan Values\n",
    "m_data = m_data.to_numpy() #Changes the pandas Series object to a Numpy List\n",
    "m_data = m_data.tolist() #Changes the Numpy list to a python list.\n",
    "#This can also be written like this\n",
    "#m_data = data.dropna().to_numpy().tolist()\n",
    "m_data[-9:]"
   ]
  },
  {
   "cell_type": "markdown",
   "metadata": {},
   "source": [
    "## Functions, arguments and keyword arguments <a id=\"functions\"></a>"
   ]
  },
  {
   "cell_type": "markdown",
   "metadata": {},
   "source": [
    "Each of the methods used in both the Graph and the Categorical Class require the entering of data by keyword arguments. Keyword arguments are values that are passed into methods by name. e.g In the following piece of code data is the keyword and frequency is the passed argument. To find information about any module the first place you should check is the documentation. This small exert of the documentation shows the default keyword arguments for the Categorical object.\n",
    "\n",
    "The datagraph module has two main classes that you will be interacting with are Categorical and Other. The Categorical class allows you to produce categorical graphs. Likewise, the Other class allows the generation of all the other types of graph the datagraph module has. Below this block an example of how to produce each type of graph is shown.\n",
    "\n",
    "class datagraph.graphCategorical(labels=None, **kwargs)\n",
    "\n",
    "Categorical graph class inherits all if the graphs class' attributes and methods and enables the graphing of categorical data. The attributes of the class should never be directly assessed. They should instead be updated through the update_vars() method and accessed through the get functions.\n",
    "\n",
    "The parameters are the follwing:\n",
    "- labels: stores the labels use to name the different classes of data\n",
    "- kwargs: stores the input data graph defaults to [None]\n",
    "\n",
    "The keywords are the following:\n",
    "- data_y: stores the y-axis data to graph defaults to [None]\n",
    "- data_x: stores the x-axis data to graph defaults to [None]\n",
    "- title_y: stores the y-axis title defaults to [\"\"]\n",
    "- title_x: stores the x-axis title defaults to [\"\"]\n",
    "- title_main: stores the main tile for the graphs default to [\"\"]\n",
    "\n",
    "The function returns a Categorial Object and the return type is return"
   ]
  },
  {
   "cell_type": "markdown",
   "metadata": {},
   "source": [
    "## Creating your first categorical object <a id=\"categorical-object\"></a>\n",
    "\n",
    "As seen above, the Categorical object takes six optional keyword arguments. While entering the keyword arguments when creating the Categorical object is not required, it is recommended as it allows you to call all of the types of graphs in this object without needing to enter the keyword arguments again. Bellow you will see how to create your first Categorical object. One thing you may notice is that each seperate variable you are passing through is defined outside of creating the object. This practise, while not necessary, is a good practice as it makes it easier to read and debug your code if something goes wrong.\n"
   ]
  },
  {
   "cell_type": "code",
   "execution_count": 9,
   "metadata": {},
   "outputs": [
    {
     "ename": "NameError",
     "evalue": "name 's_data' is not defined",
     "output_type": "error",
     "traceback": [
      "\u001b[1;31m---------------------------------------------------------------------------\u001b[0m",
      "\u001b[1;31mNameError\u001b[0m                                 Traceback (most recent call last)",
      "Cell \u001b[1;32mIn[9], line 3\u001b[0m\n\u001b[0;32m      1\u001b[0m \u001b[38;5;66;03m#Step 1 Localise the data\u001b[39;00m\n\u001b[0;32m      2\u001b[0m title_data \u001b[38;5;241m=\u001b[39m \u001b[38;5;124m'\u001b[39m\u001b[38;5;124mIf you compare yourself to other people your age, how would you describe your health?\u001b[39m\u001b[38;5;124m'\u001b[39m \u001b[38;5;66;03m#Sets the title as a variable\u001b[39;00m\n\u001b[1;32m----> 3\u001b[0m data_bar \u001b[38;5;241m=\u001b[39m s_data[title_data] \u001b[38;5;66;03m#This is the data that is going to be entered into the graph\u001b[39;00m\n\u001b[0;32m      4\u001b[0m frequency \u001b[38;5;241m=\u001b[39m data_bar\u001b[38;5;241m.\u001b[39mvalue_counts(sort\u001b[38;5;241m=\u001b[39m\u001b[38;5;28;01mFalse\u001b[39;00m) \u001b[38;5;66;03m#Extracts the frequncy of responses per category as a list\u001b[39;00m\n\u001b[0;32m      5\u001b[0m frequency \u001b[38;5;241m=\u001b[39m frequency\u001b[38;5;241m.\u001b[39msort_index(ascending\u001b[38;5;241m=\u001b[39m\u001b[38;5;28;01mTrue\u001b[39;00m) \u001b[38;5;66;03m#Sorts the list so that the numbers are ascending\u001b[39;00m\n",
      "\u001b[1;31mNameError\u001b[0m: name 's_data' is not defined"
     ]
    }
   ],
   "source": [
    "#Step 1 Localise the data\n",
    "title_data = 'If you compare yourself to other people your age, how would you describe your health?' #Sets the title as a variable\n",
    "data_bar = s_data[title_data] #This is the data that is going to be entered into the graph\n",
    "frequency = data_bar.value_counts(sort=False) #Extracts the frequncy of responses per category as a list\n",
    "frequency = frequency.sort_index(ascending=True) #Sorts the list so that the numbers are ascending\n",
    "frequency = frequency.dropna().to_numpy().tolist() #Removes Nan varaibles and converts to a python list (As explained above)\n",
    "ypos =  np.arange(len(frequency)) #Automatically assigns indexs for each number in the data\n",
    "labels = categorical_labels[title_data] #Gets the relevent lables for each graph.\n",
    "\n",
    "#Creating the Categorical Object with the data created above\n",
    "c = Categorical(data=frequency, title_main=title_data, labels=labels , title_x = \"Amount\", title_y=\"Criteria\") "
   ]
  },
  {
   "cell_type": "markdown",
   "metadata": {},
   "source": [
    "## Bar Graph and Pie Chart <a id=\"graph\"></a>\n",
    "\n",
    "As always, the first step when using a function that you dont know how to use is looking it up in the documentation.\n",
    "\n",
    "You might notice that you can enter the same keyword arguments as when you created the Categorical object. Again these are not required if you have entered the required information, in this case only the **data** keyword argument. If you have already entered all of the neccesarry information when creating the categorical object then all you have to do to create a graph is call the relevent method attached to the object.\n",
    "\n",
    ">c.graph_bar()\n",
    ">\n",
    ">c.graph_pie()\n",
    "\n",
    "All of the other graph methods will have a documentation page that looks similar to this the one above. The variable names that you are to use follow keyword:.\n",
    "\n",
    "E.g keyword: data, which is used to change the data in the graph. This can be done through the graph method by using it as a keyword argument. e.g c.graph_bar(data=[]).\n",
    "If you want to enter new data when creating the graph, all you have to do is use the relevent keywords. You may also notice that the third graph does not have any titles. This is because we haven't entered any title texts. While you can create a graph with the minimum field of only the data, it is recommended that you add all of the other fields."
   ]
  },
  {
   "cell_type": "code",
   "execution_count": 8,
   "metadata": {},
   "outputs": [
    {
     "ename": "NameError",
     "evalue": "name 'c' is not defined",
     "output_type": "error",
     "traceback": [
      "\u001b[1;31m---------------------------------------------------------------------------\u001b[0m",
      "\u001b[1;31mNameError\u001b[0m                                 Traceback (most recent call last)",
      "Cell \u001b[1;32mIn[8], line 2\u001b[0m\n\u001b[0;32m      1\u001b[0m \u001b[38;5;66;03m#This allows us to create multiple types of graphs without needing to enter all of the different keyword arguments again.\u001b[39;00m\n\u001b[1;32m----> 2\u001b[0m c\u001b[38;5;241m.\u001b[39mgraph_bar() \u001b[38;5;66;03m#Creates a Bar Graph\u001b[39;00m\n\u001b[0;32m      3\u001b[0m c\u001b[38;5;241m.\u001b[39mgraph_pie() \u001b[38;5;66;03m#Creates a Pie Graph\u001b[39;00m\n\u001b[0;32m      6\u001b[0m temp \u001b[38;5;241m=\u001b[39m s_data[title_data]\u001b[38;5;241m.\u001b[39mdropna()\u001b[38;5;241m.\u001b[39mto_numpy()\u001b[38;5;241m.\u001b[39mtolist() \u001b[38;5;66;03m#Cleaning the data and converting the a python list\u001b[39;00m\n",
      "\u001b[1;31mNameError\u001b[0m: name 'c' is not defined"
     ]
    }
   ],
   "source": [
    "#This allows us to create multiple types of graphs without needing to enter all of the different keyword arguments again.\n",
    "c.graph_bar() #Creates a Bar Graph\n",
    "c.graph_pie() #Creates a Pie Graph\n",
    "\n",
    "\n",
    "temp = s_data[title_data].dropna().to_numpy().tolist() #Cleaning the data and converting the a python list\n",
    "\n",
    "temp[:30]\n",
    "g = Categorical() #Creating a Categorical object with defaut attributes\n",
    "g.graph_bar(data=temp[:30]) #Creating a bar graph with the minimum required attributes"
   ]
  },
  {
   "cell_type": "markdown",
   "metadata": {},
   "source": [
    "The graph above is an example of how a graph with no titles is useless."
   ]
  },
  {
   "cell_type": "markdown",
   "metadata": {},
   "source": [
    "## Using other Graphs <a id=\"other-graphs\"></a>\n",
    "\n",
    "When graphing data, wehave to consider when graphing data is what each type of graph displays. A Lolipop graph should only really be used when there is les then 100 data points. While this graph is usefull other graphs may be better of understanding this data.\n",
    "\n",
    "[INSERt MORE INFORMATION ON WHEN TO USE WHICH GRPAPH]"
   ]
  },
  {
   "cell_type": "markdown",
   "metadata": {},
   "source": [
    "##  Graphing a box plot <a id=\"box-plot\"></a>"
   ]
  },
  {
   "cell_type": "markdown",
   "metadata": {},
   "source": [
    "graph_box(**kwargs) generates a box plot using a combination of the data entered and the pre-set attributes of the Categorical Class. This method will call the update_vars() method with kwargs as the input.\n",
    "\n",
    "The parameters are:\n",
    "- kwargs: stores the input data to graph defaults to [None]\n",
    "\n",
    "The keywords are:\n",
    "- title_x: stores the x-axis title defaults to [self.title_x] or [\"\"]\n",
    "- title_y: stores the y-axis title defaults to [self.title_y] or [\"\"]\n",
    "- title_main: defaults to [self.title_main] or [\"\"]\n",
    "\n",
    "The function does not return anything.\n"
   ]
  },
  {
   "cell_type": "code",
   "execution_count": null,
   "metadata": {},
   "outputs": [],
   "source": [
    "frequency = s_data['How old are you?']\n",
    "\n",
    "oth = Other(title_main=title_data, data=frequency)\n",
    "oth.graph_box(title_main=\"Boxplot Of The Age Of People Taking This Survey\")"
   ]
  },
  {
   "cell_type": "markdown",
   "metadata": {},
   "source": [
    "Warning: (data) needs to be of type list. Please check if the entered data is of the right format. when printed, it should be surrounded by '[]' and type('data') should return 'list'"
   ]
  },
  {
   "cell_type": "markdown",
   "metadata": {},
   "source": [
    "## Examples of unclean data <a id=\"unclean-data\"></a>\n",
    "\n",
    "Above here is a perfect example of how data can be unclean. There is one person on this chart that has entered their age as 200 years old. This is the sort of thing you have to account for when dealing with data sets. The Graph Below Removes any data entry that is over 200 years old using list comprehension. The code in the cell bellow filters out anyone that is over 50 years old."
   ]
  },
  {
   "cell_type": "code",
   "execution_count": null,
   "metadata": {},
   "outputs": [],
   "source": [
    "nfreq = [x for x in frequency if x <= 50] #This is done by using list comprehension. Change the 50 to change what age is filtered out.\n",
    "nfreq[:20]\n",
    "oth.graph_box(data=nfreq, title_x=\"Age of Person (Years)\")"
   ]
  },
  {
   "cell_type": "markdown",
   "metadata": {},
   "source": [
    "## Creating a Scatter Graph <a id=\"scatter-graph\"></a>\n",
    "\n",
    "graph_scatter(**kwargs) generates a scatter graph using a combination of the data entered and the pre-set attributes of the Categorical Clas. This method will call the update_vars() method with kwargs as the input.\n",
    "\n",
    "The parameters are:\n",
    "- kwargs: kwargs: stores the input data to graph defaults to [None]\n",
    "- data_y: stores the y-axis data to graph default to [self.data_y] or [None]\n",
    "- data_x: stores the x-axis data to graph default to [self.data_x] or [None]\n",
    "- title_x: stores the x-axis title defaults to [self.title_x] or [None]\n",
    "- title_y: stores the y-axis title defaults to [self.title_y] or [None]\n",
    "- title_main: stores the main title for the graphs defaults to [self.title_main] or [\"\"]\n"
   ]
  },
  {
   "cell_type": "markdown",
   "metadata": {},
   "source": [
    "## Troubleshooting  <a id=\"troubleshooting\"></a>\n",
    "\n",
    "Don't worry about the error that you receive below this is meant to be displayed.\n",
    "When you do something wrong in this module you will get an error with multiple Warnings written above them. Read what the Warnnings say and this is probably the reason why nothing was graphed. In this case the two Warnings are:\n",
    "\n",
    ">Warning: No Data Has Been Entered Into (data_x). Please check that data was entered when creating the graph object or creating a graph\n",
    ">\n",
    ">Warning: No Data Has Been Entered Into (data_y). Please check that data was entered when creating the graph object or creating a graph\n",
    "\n",
    "This is alerting you to the fact that you are tying to graph a Scatterplot without entering data into it first."
   ]
  },
  {
   "cell_type": "code",
   "execution_count": null,
   "metadata": {},
   "outputs": [],
   "source": [
    "oth.graph_scatter()"
   ]
  },
  {
   "cell_type": "markdown",
   "metadata": {},
   "source": [
    "\n",
    "\n",
    "To fix the error we just need to enter the data that was missed. This is shown in the code below."
   ]
  },
  {
   "cell_type": "code",
   "execution_count": null,
   "metadata": {},
   "outputs": [],
   "source": [
    "data_x = s_data['What time do you try to go to sleep?'].dropna().to_numpy().tolist()\n",
    "data_y = s_data['How old are you?'].dropna().to_numpy().tolist()\n",
    "title_main = \"What Time Do You Try To Go To Sleep VS How Old Are You?\"\n",
    "oth.graph_scatter(data_x=data_x, data_y=data_y, title_main=title_main, title_x=\"What Time Do You Try To Go To Sleep (Hours)\", title_y=\"Age (Years)\")"
   ]
  },
  {
   "cell_type": "markdown",
   "metadata": {},
   "source": [
    "## Density Graphs <a id=\"density-graphs\"></a>\n",
    "\n",
    "graph_density(fill=False, **kwargs) generates a density plot using a combination of the data entered and the pre-set attributes of the Categorical class. This method will call the update_vars() method with kwargs as the input.\n",
    "\n",
    "The parameters are:\n",
    "- fill: determins if the graph is shaded in defaults to [False]\n",
    "- kwargs: stores the input data to graph defaults to [None]\n",
    "- title_x: stores the x-axis title defauts to [self.title_x] or [\"\"]\n",
    "- title_y: stores the y-axis title defaults to [self.title_y] or [\"\"]\n",
    "- title_main: defaults to [self.title_main] or [\"\"]\n",
    "The fuction does not return anything.\n",
    "\n",
    "Here you may notice there is an extra parameter that the other graphs don't have. This variable controlls whether the area under the line is shaded or not. Below You can see two graphs, one with the graph unshaded and the other with it shaded,"
   ]
  },
  {
   "cell_type": "code",
   "execution_count": null,
   "metadata": {},
   "outputs": [],
   "source": [
    "oth.graph_density(title_y=\"Density of Peoples Age\")\n",
    "oth.graph_density(fill=True)"
   ]
  },
  {
   "cell_type": "markdown",
   "metadata": {},
   "source": [
    "## Create your own graphs! <a id=\"own-graph\"></a>"
   ]
  },
  {
   "cell_type": "markdown",
   "metadata": {},
   "source": [
    "Now its time to create your own graphs!"
   ]
  },
  {
   "cell_type": "code",
   "execution_count": null,
   "metadata": {},
   "outputs": [],
   "source": []
  },
  {
   "cell_type": "code",
   "execution_count": null,
   "metadata": {},
   "outputs": [],
   "source": []
  }
 ],
 "metadata": {
  "kernelspec": {
   "display_name": "Python 3 (ipykernel)",
   "language": "python",
   "name": "python3"
  },
  "language_info": {
   "codemirror_mode": {
    "name": "ipython",
    "version": 3
   },
   "file_extension": ".py",
   "mimetype": "text/x-python",
   "name": "python",
   "nbconvert_exporter": "python",
   "pygments_lexer": "ipython3",
   "version": "3.11.5"
  }
 },
 "nbformat": 4,
 "nbformat_minor": 4
}
